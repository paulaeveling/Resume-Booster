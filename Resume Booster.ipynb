{
 "cells": [
  {
   "cell_type": "markdown",
   "id": "74be4ab7",
   "metadata": {},
   "source": [
    "## Resume Booster"
   ]
  },
  {
   "cell_type": "code",
   "execution_count": 23,
   "id": "43da5fb3",
   "metadata": {},
   "outputs": [],
   "source": [
    "# import libraries\n",
    "import spacy\n",
    "import requests\n",
    "import pandas as pd\n",
    "import matplotlib.pyplot as plt\n",
    "from bs4 import BeautifulSoup\n",
    "from collections import Counter\n",
    "from matplotlib.pyplot import figure\n",
    "\n",
    "# set \n",
    "plt.rcParams[\"figure.figsize\"] = (15,5)"
   ]
  },
  {
   "cell_type": "code",
   "execution_count": 2,
   "id": "c4c55a40",
   "metadata": {},
   "outputs": [
    {
     "name": "stdout",
     "output_type": "stream",
     "text": [
      "Enter link: https://www.linkedin.com/jobs/view/2930280877/\n"
     ]
    }
   ],
   "source": [
    "# Download the HTML\n",
    "url = input('Enter link: ')\n",
    "page = requests.get(url)\n",
    "html = page.text"
   ]
  },
  {
   "cell_type": "code",
   "execution_count": 8,
   "id": "ec0478f6",
   "metadata": {},
   "outputs": [],
   "source": [
    "# Extract title, company and job description\n",
    "soup = BeautifulSoup(html, 'html.parser')\n",
    "title = soup.find('h1').string\n",
    "company = soup.find('a', class_='topcard__org-name-link topcard__flavor--black-link').string.replace(\"\\\\n\", \"\").strip()\n",
    "content = soup.find('div', class_='show-more-less-html__markup show-more-less-html__markup--clamp-after-5')\n",
    "body_string = ''\n",
    "for x in iter(content.stripped_strings):\n",
    "    body_string = body_string + x.lower()"
   ]
  },
  {
   "cell_type": "code",
   "execution_count": 12,
   "id": "c117be35",
   "metadata": {},
   "outputs": [],
   "source": [
    "# Natural Language Processing\n",
    "nlp = spacy.load('en_core_web_sm')\n",
    "doc = nlp(body_string)\n",
    "\n",
    "# Noun\n",
    "nouns = [token.lemma_ for token in doc if token.pos_ == \"NOUN\"]\n",
    "noun_freq = Counter(nouns)\n",
    "common_nouns = noun_freq.most_common(10) # 25 most common nouns\n",
    "\n",
    "# Verbs\n",
    "verbs = [token.lemma_ for token in doc if token.pos_ == \"VERB\"]\n",
    "verb_freq = Counter(verbs)\n",
    "common_verbs = verb_freq.most_common(10) # 25 most common nouns"
   ]
  },
  {
   "cell_type": "code",
   "execution_count": 25,
   "id": "6d782d03",
   "metadata": {},
   "outputs": [
    {
     "data": {
      "image/png": "[encoded data removed]",
      "text/plain": [
       "<Figure size 1080x360 with 2 Axes>"
      ]
     },
     "metadata": {
      "needs_background": "light"
     },
     "output_type": "display_data"
    }
   ],
   "source": [
    "# Plot\n",
    "# Noun\n",
    "plt.subplot(1, 2, 1) # row 1, col 2 index 1\n",
    "noun_list, noun_occurance = zip(*common_nouns)\n",
    "plt.barh(noun_list, sorted(noun_occurance), color = ('grey'))\n",
    "plt.title(f'{title} @ {company} - Top Nouns')\n",
    "plt.ylabel('Nouns')\n",
    "plt.xlabel('Occurance')\n",
    "plt.box(False)\n",
    "\n",
    "# Verb\n",
    "plt.subplot(1, 2, 2) # row 1, col 2 index 1\n",
    "verb_list, verb_occurance = zip(*common_verbs)\n",
    "plt.barh(verb_list, sorted(verb_occurance), color = ('grey'))\n",
    "plt.title(f'{title} @ {company} - Top Verbs')\n",
    "plt.ylabel('Verbs')\n",
    "plt.xlabel('Occurance')\n",
    "plt.box(False)"
   ]
  },
  {
   "cell_type": "code",
   "execution_count": null,
   "id": "4c73612b",
   "metadata": {},
   "outputs": [],
   "source": []
  }
 ],
 "metadata": {
  "kernelspec": {
   "display_name": "Python 3",
   "language": "python",
   "name": "python3"
  },
  "language_info": {
   "codemirror_mode": {
    "name": "ipython",
    "version": 3
   },
   "file_extension": ".py",
   "mimetype": "text/x-python",
   "name": "python",
   "nbconvert_exporter": "python",
   "pygments_lexer": "ipython3",
   "version": "3.8.8"
  }
 },
 "nbformat": 4,
 "nbformat_minor": 5
}
